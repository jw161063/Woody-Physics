{
  "nbformat": 4,
  "nbformat_minor": 0,
  "metadata": {
    "colab": {
      "name": "Error calculation rules Woody",
      "provenance": []
    },
    "kernelspec": {
      "name": "python3",
      "display_name": "Python 3"
    }
  },
  "cells": [
    {
      "cell_type": "code",
      "metadata": {
        "id": "fOzxjj_XSPgZ"
      },
      "source": [
        "#Rule 3 function\n",
        "\n",
        "import numpy as np\n",
        "\n",
        "def rule3(da, db):\n",
        "  dQ3 = np.sqrt((da**2 + db**2))\n",
        "  return dQ3\n",
        "\n",
        "  da = 1\n",
        "  db = 1\n",
        "\n",
        "  errT = rule3(da, db)\n",
        "  print (errT)\n",
        "\n",
        "#I have no idea as to why none of thes eprint even though I followed your code exactly for rule 3 \n",
        "#and kept doing the same thing for the rest of the rules. I don't know how to make them work so I can't compare with last lab\n"
      ],
      "execution_count": 24,
      "outputs": []
    },
    {
      "cell_type": "code",
      "metadata": {
        "id": "9EYqCPWpVjTu"
      },
      "source": [
        "#Rule 1 function\n",
        "import numpy as np\n",
        "\n",
        "\n",
        "def rule1(da, c):\n",
        "  dQ1 = abs(c)*da\n",
        "  return dQ1\n",
        "\n",
        "  da = 66\n",
        "  c = 2.5\n",
        "\n",
        "  errT = rule1(da, c)\n",
        "  print = (errT)\n"
      ],
      "execution_count": 14,
      "outputs": []
    },
    {
      "cell_type": "code",
      "metadata": {
        "id": "xL3vuwjcXdOG"
      },
      "source": [
        "#Rule 2 function\n",
        "import numpy as np\n",
        "\n",
        "def rule2(da, c, m, a)\n",
        "dQ2 = abs(c*m*A**(m-1))*da\n",
        "return dQ2\n",
        "\n",
        "da = 12\n",
        "c = 5\n",
        "m = 2\n",
        "a = 16\n",
        "\n",
        "errT = rule2(da, c, m, a)\n",
        "print = (errT)\n"
      ],
      "execution_count": null,
      "outputs": []
    },
    {
      "cell_type": "code",
      "metadata": {
        "id": "ACmMtMYzY9KW"
      },
      "source": [
        "#rule 4 function\n",
        "import numpy as np\n",
        "\n",
        "\n",
        "def rule4(a, da, m, b, db, n)\n",
        "dQ = np.sqrt(((m*da/a)**2 + (n*db/b)**2))\n",
        "return dQ4\n",
        "\n",
        "a = 1\n",
        "da = 2\n",
        "m = 3\n",
        "b = 4\n",
        "db = 5 \n",
        "n = 6\n",
        "\n",
        "errT = (rule4(a, da, m, b, db, n))\n",
        "print (errT)\n"
      ],
      "execution_count": null,
      "outputs": []
    },
    {
      "cell_type": "code",
      "metadata": {
        "id": "IVgZxtgzcO1p",
        "outputId": "f501e94e-eea4-4fa3-e63a-e7056be32338",
        "colab": {
          "base_uri": "https://localhost:8080/",
          "height": 53
        }
      },
      "source": [
        "import numpy as np\n",
        "\n",
        "x = np.array((1.1, 1.3, 1.4, .9, .95, 1.05))\n",
        "\n",
        "print (np.std(x))\n",
        "print (np.average(x))\n",
        "\n",
        "# The average of the array is 1.116 repeating and the standard deviation of the array is .1795"
      ],
      "execution_count": 23,
      "outputs": [
        {
          "output_type": "stream",
          "text": [
            "0.17950549357115014\n",
            "1.1166666666666667\n"
          ],
          "name": "stdout"
        }
      ]
    },
    {
      "cell_type": "markdown",
      "metadata": {
        "id": "YbvCVQY3fxp8"
      },
      "source": [
        "$\\delta Q = \\ sqrt((\\delta A)^2 + (\\delta B)^2)$\n",
        "\n",
        "\n",
        "$\\delta F_c = F_c \\sqrt{(\\delta m / m)^2 + (-\\delta slope/slope)^2} $\n",
        "\n"
      ]
    },
    {
      "cell_type": "code",
      "metadata": {
        "id": "eOtm9yvMf0io"
      },
      "source": [
        ""
      ],
      "execution_count": null,
      "outputs": []
    }
  ]
}